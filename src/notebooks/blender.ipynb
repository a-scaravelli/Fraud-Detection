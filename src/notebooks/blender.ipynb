{
 "cells": [
  {
   "cell_type": "markdown",
   "metadata": {},
   "source": [
    "# Final blender"
   ]
  },
  {
   "cell_type": "code",
   "execution_count": 4,
   "metadata": {},
   "outputs": [
    {
     "name": "stdout",
     "output_type": "stream",
     "text": [
      "C:\\Users\\Marco\\Documents\\GitHub\\generali-challenge21\n"
     ]
    }
   ],
   "source": [
    "cd C:\\Users\\Marco\\Documents\\GitHub\\generali-challenge21\\"
   ]
  },
  {
   "cell_type": "code",
   "execution_count": 2,
   "metadata": {},
   "outputs": [],
   "source": [
    "import pandas as pd\n",
    "import numpy as np"
   ]
  },
  {
   "cell_type": "code",
   "execution_count": 5,
   "metadata": {},
   "outputs": [],
   "source": [
    "s1 = pd.read_csv(\"predictions/predictions_catboost_SMOTE_01_07335.csv\", header=None, names=[\"proba_1\"])\n",
    "s2 = pd.read_csv(\"predictions/predictions_lightgbm_SMOTE_01 no parameters limit_07397.csv\", header=None, names=[\"proba_2\"])\n",
    "s3 = pd.read_csv(\"predictions/predictions_xgbm_SMTE01 no parameters limit_07381.csv\", header=None, names=[\"proba_3\"])\n",
    "#s4 = pd.read_csv(\"prediction/over_60/submission_20200421_044245_LR001.csv\", header=None, names=[\"id\", \"label\", \"proba_4\"])"
   ]
  },
  {
   "cell_type": "code",
   "execution_count": 8,
   "metadata": {},
   "outputs": [],
   "source": [
    "#fnl = s1.drop(columns=[\"label\"])\n",
    "fnl = s1\n",
    "\n",
    "fnl[\"proba_2\"] = s2.proba_2.copy()\n",
    "fnl[\"proba_3\"] = s3.proba_3.copy()"
   ]
  },
  {
   "cell_type": "code",
   "execution_count": 10,
   "metadata": {},
   "outputs": [
    {
     "data": {
      "text/html": [
       "<div>\n",
       "<style scoped>\n",
       "    .dataframe tbody tr th:only-of-type {\n",
       "        vertical-align: middle;\n",
       "    }\n",
       "\n",
       "    .dataframe tbody tr th {\n",
       "        vertical-align: top;\n",
       "    }\n",
       "\n",
       "    .dataframe thead th {\n",
       "        text-align: right;\n",
       "    }\n",
       "</style>\n",
       "<table border=\"1\" class=\"dataframe\">\n",
       "  <thead>\n",
       "    <tr style=\"text-align: right;\">\n",
       "      <th></th>\n",
       "      <th>proba_1</th>\n",
       "      <th>proba_2</th>\n",
       "      <th>proba_3</th>\n",
       "    </tr>\n",
       "  </thead>\n",
       "  <tbody>\n",
       "    <tr>\n",
       "      <td>proba_1</td>\n",
       "      <td>1.000000</td>\n",
       "      <td>0.957441</td>\n",
       "      <td>0.956132</td>\n",
       "    </tr>\n",
       "    <tr>\n",
       "      <td>proba_2</td>\n",
       "      <td>0.957441</td>\n",
       "      <td>1.000000</td>\n",
       "      <td>0.986974</td>\n",
       "    </tr>\n",
       "    <tr>\n",
       "      <td>proba_3</td>\n",
       "      <td>0.956132</td>\n",
       "      <td>0.986974</td>\n",
       "      <td>1.000000</td>\n",
       "    </tr>\n",
       "  </tbody>\n",
       "</table>\n",
       "</div>"
      ],
      "text/plain": [
       "          proba_1   proba_2   proba_3\n",
       "proba_1  1.000000  0.957441  0.956132\n",
       "proba_2  0.957441  1.000000  0.986974\n",
       "proba_3  0.956132  0.986974  1.000000"
      ]
     },
     "execution_count": 10,
     "metadata": {},
     "output_type": "execute_result"
    }
   ],
   "source": [
    "fnl[[\"proba_1\", \"proba_2\", \"proba_3\"]].corr()"
   ]
  },
  {
   "cell_type": "code",
   "execution_count": 14,
   "metadata": {},
   "outputs": [],
   "source": [
    "fnl[\"proba\"] = fnl[[\"proba_1\", \"proba_2\", \"proba_3\"]].mean(axis=1)"
   ]
  },
  {
   "cell_type": "code",
   "execution_count": 12,
   "metadata": {},
   "outputs": [],
   "source": [
    "sub_copy = fnl.sort_values([\"proba\"]).copy()\n",
    "length_test = len(sub_copy[\"proba\"])\n",
    "# aggiunto penalty score\n",
    "target_preds = 0.005 * length_test\n",
    "n_preds = round(length_test - target_preds)\n",
    "threshold = sub_copy.iloc[n_preds][\"proba\"]"
   ]
  },
  {
   "cell_type": "code",
   "execution_count": 13,
   "metadata": {},
   "outputs": [
    {
     "name": "stdout",
     "output_type": "stream",
     "text": [
      "The values over this threshold are predicted as frauds: 0.6296995733333333\n",
      "Penalty is: 0.00022678172855413622\n"
     ]
    }
   ],
   "source": [
    "print(\"The values over this threshold are predicted as frauds:\", threshold)\n",
    "sub_copy[\"label\"] = sub_copy[\"proba\"].apply(\n",
    "    lambda x: 1 if (x >= threshold) else 0\n",
    ")\n",
    "TPFP = sub_copy[\"label\"].sum()\n",
    "penalty = abs(TPFP - target_preds) / target_preds\n",
    "print(\"Penalty is:\", penalty)"
   ]
  },
  {
   "cell_type": "code",
   "execution_count": 24,
   "metadata": {},
   "outputs": [],
   "source": [
    "sub_copy[[\"id\", \"label\", \"proba\"]].to_csv(\n",
    "    f\"./prediction/with_proba/submission_bled_1maggio.csv\", index=False, header=False\n",
    ")\n",
    "sub_copy[[\"id\", \"label\"]].to_csv(\n",
    "    f\"./prediction/submissions/submission_blend_1maggio.csv\", index=False, header=False\n",
    ")"
   ]
  },
  {
   "cell_type": "code",
   "execution_count": 17,
   "metadata": {},
   "outputs": [],
   "source": [
    "fnl[\"proba\"].to_csv('submission.csv', header=False, index=False)\n"
   ]
  },
  {
   "cell_type": "code",
   "execution_count": null,
   "metadata": {},
   "outputs": [],
   "source": []
  }
 ],
 "metadata": {
  "kernelspec": {
   "display_name": "Python 3",
   "language": "python",
   "name": "python3"
  },
  "language_info": {
   "codemirror_mode": {
    "name": "ipython",
    "version": 3
   },
   "file_extension": ".py",
   "mimetype": "text/x-python",
   "name": "python",
   "nbconvert_exporter": "python",
   "pygments_lexer": "ipython3",
   "version": "3.7.4"
  }
 },
 "nbformat": 4,
 "nbformat_minor": 4
}
