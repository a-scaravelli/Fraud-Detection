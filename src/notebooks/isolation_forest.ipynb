{
 "cells": [
  {
   "cell_type": "code",
   "execution_count": 3,
   "metadata": {},
   "outputs": [
    {
     "name": "stdout",
     "output_type": "stream",
     "text": [
      "C:\\Users\\Marco\\Documents\\GitHub\\generali-challenge21\n"
     ]
    }
   ],
   "source": [
    "cd C:\\Users\\Marco\\Documents\\GitHub\\generali-challenge21\\"
   ]
  },
  {
   "cell_type": "code",
   "execution_count": 4,
   "metadata": {},
   "outputs": [],
   "source": [
    "from src.utils import reduce_mem_usage\n",
    "from src.utils import fetch_data, subset_data\n",
    "import gc"
   ]
  },
  {
   "cell_type": "code",
   "execution_count": 5,
   "metadata": {},
   "outputs": [
    {
     "name": "stdout",
     "output_type": "stream",
     "text": [
      "Memory usage of dataframe is 885.93 MB --> 174.74 MB (Decreased by 80.3%)\n",
      "Memory usage of dataframe is 589.34 MB --> 116.17 MB (Decreased by 80.3%)\n"
     ]
    }
   ],
   "source": [
    "gc.collect()\n",
    "\n",
    "# Importing data\n",
    "training = fetch_data(\"train\")\n",
    "test = fetch_data(\"test\")\n",
    "\n",
    "training = reduce_mem_usage(training)\n",
    "test = reduce_mem_usage(test)\n",
    "\n",
    "# prendo solo l'ultimo 10% dei dati non frodi --> valutare anche un random sampling\n",
    "training = subset_data(training, \"random\", 1)"
   ]
  },
  {
   "cell_type": "code",
   "execution_count": 6,
   "metadata": {},
   "outputs": [],
   "source": [
    "from sklearn.ensemble import IsolationForest"
   ]
  },
  {
   "cell_type": "code",
   "execution_count": 16,
   "metadata": {},
   "outputs": [
    {
     "data": {
      "text/html": [
       "<div>\n",
       "<style scoped>\n",
       "    .dataframe tbody tr th:only-of-type {\n",
       "        vertical-align: middle;\n",
       "    }\n",
       "\n",
       "    .dataframe tbody tr th {\n",
       "        vertical-align: top;\n",
       "    }\n",
       "\n",
       "    .dataframe thead th {\n",
       "        text-align: right;\n",
       "    }\n",
       "</style>\n",
       "<table border=\"1\" class=\"dataframe\">\n",
       "  <thead>\n",
       "    <tr style=\"text-align: right;\">\n",
       "      <th></th>\n",
       "      <th>feature_1</th>\n",
       "      <th>feature_2</th>\n",
       "      <th>feature_3</th>\n",
       "      <th>feature_4</th>\n",
       "      <th>feature_5</th>\n",
       "      <th>feature_6</th>\n",
       "      <th>feature_7</th>\n",
       "      <th>feature_8</th>\n",
       "      <th>feature_9</th>\n",
       "      <th>feature_10</th>\n",
       "      <th>...</th>\n",
       "      <th>feature_455</th>\n",
       "      <th>feature_456</th>\n",
       "      <th>feature_457</th>\n",
       "      <th>feature_458</th>\n",
       "      <th>feature_459</th>\n",
       "      <th>feature_460</th>\n",
       "      <th>feature_461</th>\n",
       "      <th>feature_462</th>\n",
       "      <th>feature_463</th>\n",
       "      <th>target</th>\n",
       "    </tr>\n",
       "  </thead>\n",
       "  <tbody>\n",
       "    <tr>\n",
       "      <td>249764</td>\n",
       "      <td>-0.667480</td>\n",
       "      <td>-0.781738</td>\n",
       "      <td>-0.059113</td>\n",
       "      <td>-0.141602</td>\n",
       "      <td>-0.097839</td>\n",
       "      <td>-0.471436</td>\n",
       "      <td>-0.141846</td>\n",
       "      <td>-0.109985</td>\n",
       "      <td>-0.048767</td>\n",
       "      <td>-0.102966</td>\n",
       "      <td>...</td>\n",
       "      <td>0</td>\n",
       "      <td>0</td>\n",
       "      <td>0</td>\n",
       "      <td>0</td>\n",
       "      <td>0</td>\n",
       "      <td>1</td>\n",
       "      <td>0</td>\n",
       "      <td>0</td>\n",
       "      <td>0</td>\n",
       "      <td>NaN</td>\n",
       "    </tr>\n",
       "    <tr>\n",
       "      <td>195550</td>\n",
       "      <td>0.409668</td>\n",
       "      <td>-0.130493</td>\n",
       "      <td>-0.059113</td>\n",
       "      <td>-0.141602</td>\n",
       "      <td>-0.097839</td>\n",
       "      <td>-0.201172</td>\n",
       "      <td>-0.141846</td>\n",
       "      <td>-0.051056</td>\n",
       "      <td>-0.048767</td>\n",
       "      <td>-0.102966</td>\n",
       "      <td>...</td>\n",
       "      <td>0</td>\n",
       "      <td>0</td>\n",
       "      <td>0</td>\n",
       "      <td>0</td>\n",
       "      <td>0</td>\n",
       "      <td>1</td>\n",
       "      <td>0</td>\n",
       "      <td>0</td>\n",
       "      <td>0</td>\n",
       "      <td>NaN</td>\n",
       "    </tr>\n",
       "    <tr>\n",
       "      <td>241579</td>\n",
       "      <td>-0.236572</td>\n",
       "      <td>0.241577</td>\n",
       "      <td>-0.059113</td>\n",
       "      <td>-0.141602</td>\n",
       "      <td>-0.095032</td>\n",
       "      <td>-0.201172</td>\n",
       "      <td>-0.141846</td>\n",
       "      <td>-0.051056</td>\n",
       "      <td>-0.040710</td>\n",
       "      <td>-0.101074</td>\n",
       "      <td>...</td>\n",
       "      <td>0</td>\n",
       "      <td>0</td>\n",
       "      <td>0</td>\n",
       "      <td>0</td>\n",
       "      <td>0</td>\n",
       "      <td>1</td>\n",
       "      <td>0</td>\n",
       "      <td>0</td>\n",
       "      <td>0</td>\n",
       "      <td>NaN</td>\n",
       "    </tr>\n",
       "    <tr>\n",
       "      <td>178872</td>\n",
       "      <td>-0.451904</td>\n",
       "      <td>-0.130493</td>\n",
       "      <td>-0.059113</td>\n",
       "      <td>-0.141602</td>\n",
       "      <td>-0.092285</td>\n",
       "      <td>-0.201172</td>\n",
       "      <td>-0.141846</td>\n",
       "      <td>-0.051056</td>\n",
       "      <td>-0.032654</td>\n",
       "      <td>-0.099182</td>\n",
       "      <td>...</td>\n",
       "      <td>0</td>\n",
       "      <td>0</td>\n",
       "      <td>0</td>\n",
       "      <td>0</td>\n",
       "      <td>0</td>\n",
       "      <td>0</td>\n",
       "      <td>0</td>\n",
       "      <td>1</td>\n",
       "      <td>0</td>\n",
       "      <td>NaN</td>\n",
       "    </tr>\n",
       "    <tr>\n",
       "      <td>103764</td>\n",
       "      <td>-0.667480</td>\n",
       "      <td>-0.130493</td>\n",
       "      <td>-0.059113</td>\n",
       "      <td>-0.141602</td>\n",
       "      <td>-0.097839</td>\n",
       "      <td>-0.471436</td>\n",
       "      <td>-0.141846</td>\n",
       "      <td>-0.109985</td>\n",
       "      <td>-0.048767</td>\n",
       "      <td>-0.102966</td>\n",
       "      <td>...</td>\n",
       "      <td>0</td>\n",
       "      <td>0</td>\n",
       "      <td>0</td>\n",
       "      <td>0</td>\n",
       "      <td>0</td>\n",
       "      <td>1</td>\n",
       "      <td>0</td>\n",
       "      <td>0</td>\n",
       "      <td>0</td>\n",
       "      <td>0.0</td>\n",
       "    </tr>\n",
       "    <tr>\n",
       "      <td>...</td>\n",
       "      <td>...</td>\n",
       "      <td>...</td>\n",
       "      <td>...</td>\n",
       "      <td>...</td>\n",
       "      <td>...</td>\n",
       "      <td>...</td>\n",
       "      <td>...</td>\n",
       "      <td>...</td>\n",
       "      <td>...</td>\n",
       "      <td>...</td>\n",
       "      <td>...</td>\n",
       "      <td>...</td>\n",
       "      <td>...</td>\n",
       "      <td>...</td>\n",
       "      <td>...</td>\n",
       "      <td>...</td>\n",
       "      <td>...</td>\n",
       "      <td>...</td>\n",
       "      <td>...</td>\n",
       "      <td>...</td>\n",
       "      <td>...</td>\n",
       "    </tr>\n",
       "    <tr>\n",
       "      <td>13502</td>\n",
       "      <td>-0.667480</td>\n",
       "      <td>-0.688477</td>\n",
       "      <td>-0.059113</td>\n",
       "      <td>-0.141602</td>\n",
       "      <td>-0.097839</td>\n",
       "      <td>-0.201172</td>\n",
       "      <td>-0.141846</td>\n",
       "      <td>-0.051056</td>\n",
       "      <td>-0.048767</td>\n",
       "      <td>-0.102966</td>\n",
       "      <td>...</td>\n",
       "      <td>0</td>\n",
       "      <td>0</td>\n",
       "      <td>0</td>\n",
       "      <td>0</td>\n",
       "      <td>0</td>\n",
       "      <td>1</td>\n",
       "      <td>0</td>\n",
       "      <td>0</td>\n",
       "      <td>0</td>\n",
       "      <td>NaN</td>\n",
       "    </tr>\n",
       "    <tr>\n",
       "      <td>51549</td>\n",
       "      <td>-0.667480</td>\n",
       "      <td>-0.130493</td>\n",
       "      <td>-0.059113</td>\n",
       "      <td>-0.141602</td>\n",
       "      <td>-0.097839</td>\n",
       "      <td>0.358643</td>\n",
       "      <td>-0.141846</td>\n",
       "      <td>0.007835</td>\n",
       "      <td>-0.032654</td>\n",
       "      <td>-0.099182</td>\n",
       "      <td>...</td>\n",
       "      <td>0</td>\n",
       "      <td>0</td>\n",
       "      <td>0</td>\n",
       "      <td>0</td>\n",
       "      <td>0</td>\n",
       "      <td>0</td>\n",
       "      <td>0</td>\n",
       "      <td>1</td>\n",
       "      <td>0</td>\n",
       "      <td>NaN</td>\n",
       "    </tr>\n",
       "    <tr>\n",
       "      <td>735</td>\n",
       "      <td>-0.667480</td>\n",
       "      <td>-0.130493</td>\n",
       "      <td>-0.059113</td>\n",
       "      <td>-0.141602</td>\n",
       "      <td>-0.086670</td>\n",
       "      <td>-0.201172</td>\n",
       "      <td>-0.141846</td>\n",
       "      <td>0.125610</td>\n",
       "      <td>-0.016556</td>\n",
       "      <td>-0.095337</td>\n",
       "      <td>...</td>\n",
       "      <td>0</td>\n",
       "      <td>0</td>\n",
       "      <td>0</td>\n",
       "      <td>0</td>\n",
       "      <td>0</td>\n",
       "      <td>1</td>\n",
       "      <td>0</td>\n",
       "      <td>0</td>\n",
       "      <td>0</td>\n",
       "      <td>0.0</td>\n",
       "    </tr>\n",
       "    <tr>\n",
       "      <td>16940</td>\n",
       "      <td>1.702148</td>\n",
       "      <td>-0.130493</td>\n",
       "      <td>-0.059113</td>\n",
       "      <td>-0.131348</td>\n",
       "      <td>-0.092285</td>\n",
       "      <td>0.011139</td>\n",
       "      <td>-0.131470</td>\n",
       "      <td>0.007835</td>\n",
       "      <td>-0.032654</td>\n",
       "      <td>-0.099182</td>\n",
       "      <td>...</td>\n",
       "      <td>0</td>\n",
       "      <td>0</td>\n",
       "      <td>0</td>\n",
       "      <td>0</td>\n",
       "      <td>0</td>\n",
       "      <td>0</td>\n",
       "      <td>0</td>\n",
       "      <td>0</td>\n",
       "      <td>1</td>\n",
       "      <td>0.0</td>\n",
       "    </tr>\n",
       "    <tr>\n",
       "      <td>123925</td>\n",
       "      <td>2.132812</td>\n",
       "      <td>-0.130493</td>\n",
       "      <td>-0.059113</td>\n",
       "      <td>-0.141602</td>\n",
       "      <td>-0.097839</td>\n",
       "      <td>1.362305</td>\n",
       "      <td>-0.141846</td>\n",
       "      <td>-0.109985</td>\n",
       "      <td>-0.048767</td>\n",
       "      <td>-0.102966</td>\n",
       "      <td>...</td>\n",
       "      <td>0</td>\n",
       "      <td>0</td>\n",
       "      <td>0</td>\n",
       "      <td>0</td>\n",
       "      <td>0</td>\n",
       "      <td>1</td>\n",
       "      <td>0</td>\n",
       "      <td>0</td>\n",
       "      <td>0</td>\n",
       "      <td>NaN</td>\n",
       "    </tr>\n",
       "  </tbody>\n",
       "</table>\n",
       "<p>251342 rows × 462 columns</p>\n",
       "</div>"
      ],
      "text/plain": [
       "        feature_1  feature_2  feature_3  feature_4  feature_5  feature_6  \\\n",
       "249764  -0.667480  -0.781738  -0.059113  -0.141602  -0.097839  -0.471436   \n",
       "195550   0.409668  -0.130493  -0.059113  -0.141602  -0.097839  -0.201172   \n",
       "241579  -0.236572   0.241577  -0.059113  -0.141602  -0.095032  -0.201172   \n",
       "178872  -0.451904  -0.130493  -0.059113  -0.141602  -0.092285  -0.201172   \n",
       "103764  -0.667480  -0.130493  -0.059113  -0.141602  -0.097839  -0.471436   \n",
       "...           ...        ...        ...        ...        ...        ...   \n",
       "13502   -0.667480  -0.688477  -0.059113  -0.141602  -0.097839  -0.201172   \n",
       "51549   -0.667480  -0.130493  -0.059113  -0.141602  -0.097839   0.358643   \n",
       "735     -0.667480  -0.130493  -0.059113  -0.141602  -0.086670  -0.201172   \n",
       "16940    1.702148  -0.130493  -0.059113  -0.131348  -0.092285   0.011139   \n",
       "123925   2.132812  -0.130493  -0.059113  -0.141602  -0.097839   1.362305   \n",
       "\n",
       "        feature_7  feature_8  feature_9  feature_10  ...  feature_455  \\\n",
       "249764  -0.141846  -0.109985  -0.048767   -0.102966  ...            0   \n",
       "195550  -0.141846  -0.051056  -0.048767   -0.102966  ...            0   \n",
       "241579  -0.141846  -0.051056  -0.040710   -0.101074  ...            0   \n",
       "178872  -0.141846  -0.051056  -0.032654   -0.099182  ...            0   \n",
       "103764  -0.141846  -0.109985  -0.048767   -0.102966  ...            0   \n",
       "...           ...        ...        ...         ...  ...          ...   \n",
       "13502   -0.141846  -0.051056  -0.048767   -0.102966  ...            0   \n",
       "51549   -0.141846   0.007835  -0.032654   -0.099182  ...            0   \n",
       "735     -0.141846   0.125610  -0.016556   -0.095337  ...            0   \n",
       "16940   -0.131470   0.007835  -0.032654   -0.099182  ...            0   \n",
       "123925  -0.141846  -0.109985  -0.048767   -0.102966  ...            0   \n",
       "\n",
       "        feature_456  feature_457  feature_458  feature_459  feature_460  \\\n",
       "249764            0            0            0            0            1   \n",
       "195550            0            0            0            0            1   \n",
       "241579            0            0            0            0            1   \n",
       "178872            0            0            0            0            0   \n",
       "103764            0            0            0            0            1   \n",
       "...             ...          ...          ...          ...          ...   \n",
       "13502             0            0            0            0            1   \n",
       "51549             0            0            0            0            0   \n",
       "735               0            0            0            0            1   \n",
       "16940             0            0            0            0            0   \n",
       "123925            0            0            0            0            1   \n",
       "\n",
       "        feature_461  feature_462  feature_463  target  \n",
       "249764            0            0            0     NaN  \n",
       "195550            0            0            0     NaN  \n",
       "241579            0            0            0     NaN  \n",
       "178872            0            1            0     NaN  \n",
       "103764            0            0            0     0.0  \n",
       "...             ...          ...          ...     ...  \n",
       "13502             0            0            0     NaN  \n",
       "51549             0            1            0     NaN  \n",
       "735               0            0            0     0.0  \n",
       "16940             0            0            1     0.0  \n",
       "123925            0            0            0     NaN  \n",
       "\n",
       "[251342 rows x 462 columns]"
      ]
     },
     "execution_count": 16,
     "metadata": {},
     "output_type": "execute_result"
    }
   ],
   "source": []
  },
  {
   "cell_type": "code",
   "execution_count": 17,
   "metadata": {},
   "outputs": [],
   "source": [
    "isolation_f = IsolationForest(contamination=.005).fit(training.drop([\"target\"], axis=1))\n",
    "\n",
    "#isolation_f = IsolationForest(contamination=.005,n_estimators=100, max_samples='auto', \\\n",
    "#                        max_features=1.0, bootstrap=True, n_jobs=-1, random_state=42, verbose=1,behaviour=\"new\").fit(training.drop([\"target\"], axis=1))"
   ]
  },
  {
   "cell_type": "code",
   "execution_count": 18,
   "metadata": {},
   "outputs": [],
   "source": [
    "lbl = isolation_f.predict(test)"
   ]
  },
  {
   "cell_type": "code",
   "execution_count": 19,
   "metadata": {},
   "outputs": [],
   "source": [
    "dcf = isolation_f.decision_function(test)"
   ]
  },
  {
   "cell_type": "code",
   "execution_count": 20,
   "metadata": {},
   "outputs": [],
   "source": [
    "import pandas as pd\n",
    "pd.DataFrame(dcf).to_csv('isolation_forest.csv')"
   ]
  },
  {
   "cell_type": "code",
   "execution_count": 21,
   "metadata": {},
   "outputs": [],
   "source": [
    "submission_template = pd.DataFrame(index=range(len(test)))\n",
    "submission_template['y_test_pred'] = 0"
   ]
  },
  {
   "cell_type": "code",
   "execution_count": 22,
   "metadata": {},
   "outputs": [],
   "source": [
    "submission = submission_template.copy()"
   ]
  },
  {
   "cell_type": "code",
   "execution_count": 23,
   "metadata": {},
   "outputs": [
    {
     "data": {
      "text/plain": [
       "y_test_pred    0\n",
       "dtype: int64"
      ]
     },
     "execution_count": 23,
     "metadata": {},
     "output_type": "execute_result"
    }
   ],
   "source": [
    "submission.sum()"
   ]
  },
  {
   "cell_type": "code",
   "execution_count": 26,
   "metadata": {},
   "outputs": [
    {
     "data": {
      "text/plain": [
       "167562"
      ]
     },
     "execution_count": 26,
     "metadata": {},
     "output_type": "execute_result"
    }
   ],
   "source": [
    "len(dcf)"
   ]
  },
  {
   "cell_type": "code",
   "execution_count": 30,
   "metadata": {},
   "outputs": [
    {
     "data": {
      "text/plain": [
       "165850"
      ]
     },
     "execution_count": 30,
     "metadata": {},
     "output_type": "execute_result"
    }
   ],
   "source": [
    "lbl.sum()"
   ]
  },
  {
   "cell_type": "code",
   "execution_count": 31,
   "metadata": {},
   "outputs": [
    {
     "data": {
      "text/plain": [
       "array([1, 1, 1, ..., 1, 1, 1])"
      ]
     },
     "execution_count": 31,
     "metadata": {},
     "output_type": "execute_result"
    }
   ],
   "source": [
    "lbl"
   ]
  },
  {
   "cell_type": "code",
   "execution_count": 32,
   "metadata": {},
   "outputs": [
    {
     "data": {
      "text/plain": [
       "array([0.12170958, 0.09465116, 0.1037342 , ..., 0.08154201, 0.12659985,\n",
       "       0.10075172])"
      ]
     },
     "execution_count": 32,
     "metadata": {},
     "output_type": "execute_result"
    }
   ],
   "source": [
    "dcf"
   ]
  },
  {
   "cell_type": "code",
   "execution_count": 33,
   "metadata": {},
   "outputs": [
    {
     "data": {
      "text/plain": [
       "17466.253665076765"
      ]
     },
     "execution_count": 33,
     "metadata": {},
     "output_type": "execute_result"
    }
   ],
   "source": [
    "dcf.sum()"
   ]
  },
  {
   "cell_type": "code",
   "execution_count": 35,
   "metadata": {},
   "outputs": [],
   "source": [
    "lbl= pd.DataFrame(lbl)"
   ]
  },
  {
   "cell_type": "code",
   "execution_count": 36,
   "metadata": {},
   "outputs": [],
   "source": [
    "lbl.to_csv('is_forest.csv')"
   ]
  },
  {
   "cell_type": "code",
   "execution_count": null,
   "metadata": {},
   "outputs": [],
   "source": []
  }
 ],
 "metadata": {
  "kernelspec": {
   "display_name": "Python 3",
   "language": "python",
   "name": "python3"
  },
  "language_info": {
   "codemirror_mode": {
    "name": "ipython",
    "version": 3
   },
   "file_extension": ".py",
   "mimetype": "text/x-python",
   "name": "python",
   "nbconvert_exporter": "python",
   "pygments_lexer": "ipython3",
   "version": "3.7.4"
  }
 },
 "nbformat": 4,
 "nbformat_minor": 4
}
